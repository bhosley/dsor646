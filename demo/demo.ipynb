{
 "cells": [
  {
   "cell_type": "markdown",
   "metadata": {},
   "source": [
    "Run a Test that replicates the general outline of the class handouts. Sarsa($\\lambda$) used in the example."
   ]
  },
  {
   "cell_type": "code",
   "execution_count": null,
   "metadata": {},
   "outputs": [],
   "source": [
    "import gymnasium as gym\n",
    "\n",
    "from src.LambdaSARSA import LambdaSARSA\n",
    "\n",
    "env = gym.make('LunarLander-v2')\n",
    "lam_sarsa = LambdaSARSA(env)\n",
    "lam_sarsa.train(num_replications=5, num_episodes=200)\n",
    "lam_sarsa.get_results()\n",
    "lam_sarsa.show_results()"
   ]
  },
  {
   "cell_type": "markdown",
   "metadata": {},
   "source": [
    "Run a LHS Experiment replicating the type shown in the handouts. Example uses One-Step Sarsa on Mountain Car"
   ]
  },
  {
   "cell_type": "code",
   "execution_count": null,
   "metadata": {},
   "outputs": [],
   "source": [
    "import gymnasium as gym\n",
    "\n",
    "from src.LHS_functions import LHS_Experiment\n",
    "from src.SARSA import SARSA\n",
    "\n",
    "env = gym.make('MountainCar-v0')\n",
    "features = [\"alpha_a\", \"alpha_b\", \"eps_a\", \"eps_b\"]\n",
    "sarsa_experiment = LHS_Experiment(SARSA,env,features)\n",
    "sarsa_experiment.parallel_lhs()\n",
    "sarsa_experiment.export_results()\n",
    "sarsa_experiment.plot_results()\n",
    "sarsa_experiment.plot_param_comparison()\n",
    "sarsa_experiment.anova()"
   ]
  },
  {
   "cell_type": "markdown",
   "metadata": {},
   "source": [
    "Example sweep using wandb API. \n",
    "\n",
    "*NOTE* This will require loggin into Wandb API. Do so using the CLI login function first, \n",
    "then it can run in a notebook, but I recommend running the contents of the cell below as a\n",
    "separate *script*.py, as it seems less risky from the perspective of a crashing kernel.\n",
    "\n",
    "Don't forget to update params"
   ]
  },
  {
   "cell_type": "code",
   "execution_count": null,
   "metadata": {},
   "outputs": [],
   "source": [
    "import wandb\n",
    "from LambdaSARSA import LambdaSARSA\n",
    "\n",
    "sweep_config = {\n",
    "    \"method\": \"random\",\n",
    "    \"name\": \"sweep\",\n",
    "    \"metric\": {\"goal\": \"maximize\", \"name\": \"Score\"},\n",
    "    'parameters': {\n",
    "        'alpha_a': {'distribution': 'uniform', 'min': 0, 'max': 1},\n",
    "        'alpha_b': {'distribution': 'uniform', 'min': 0, 'max': 1},\n",
    "        'eps_a': {'distribution': 'uniform', 'min': 0, 'max': 1},\n",
    "        'eps_b': {'distribution': 'uniform', 'min': 0, 'max': 1},\n",
    "        'lam_a': {'distribution': 'uniform', 'min': 0, 'max': 1},\n",
    "        'lam_b': {'distribution': 'uniform', 'min': 0, 'max': 1},\n",
    "        'clip': {'distribution': 'uniform', 'min': 5, 'max': 15},\n",
    "    }\n",
    "}\n",
    "\n",
    "sweep_id = wandb.sweep(sweep=sweep_config, project=\"DSOR646-LambdaSARSA\")\n",
    "\n",
    "import gymnasium as gym\n",
    "env = gym.make('LunarLander-v2')\n",
    "\n",
    "def main():\n",
    "    run = wandb.init()\n",
    "    model = LambdaSARSA(env,\n",
    "        alpha_a = wandb.config.alpha_a,\n",
    "        alpha_b = wandb.config.alpha_b,\n",
    "        eps_a = wandb.config.eps_a,\n",
    "        eps_b = wandb.config.eps_b,\n",
    "        lam_a = wandb.config.lam_a,\n",
    "        lam_b = wandb.config.lam_b,\n",
    "        clip = wandb.config.clip\n",
    "        )\n",
    "    model.train(num_replications=30,num_episodes=300)\n",
    "    maxETDR, maxETDRhw, meanMaxTestEETDR, maxTestHW, meanAULC, hwAULC, time = model.get_results()\n",
    "    alg_score = 0.6*(meanMaxTestEETDR-maxTestHW) + 0.4*(meanAULC-hwAULC)\n",
    "    wandb.log({\n",
    "            \"maxETDR\": maxETDR,\n",
    "            \"maxETDRhw\": maxETDRhw,\n",
    "            \"meanMaxTestEETDR\": meanMaxTestEETDR,\n",
    "            \"maxTestHW\": maxTestHW,\n",
    "            \"meanAULC\": meanAULC,\n",
    "            \"hwAULC\": hwAULC,\n",
    "            \"time\": time,\n",
    "            \"Score\": alg_score\n",
    "        })\n",
    "\n",
    "# Start sweep job.\n",
    "wandb.agent(sweep_id, function=main, count=5)"
   ]
  }
 ],
 "metadata": {
  "language_info": {
   "name": "python"
  }
 },
 "nbformat": 4,
 "nbformat_minor": 2
}
